{
 "cells": [
  {
   "cell_type": "code",
   "execution_count": null,
   "metadata": {},
   "outputs": [],
   "source": [
    "from qiskit.circuit.library import MCXGate\n",
    "from qiskit import QuantumCircuit, transpile\n",
    "\n",
    "from qiskit.tools.jupyter import *\n",
    "from qiskit.visualization import *\n",
    "from ibm_quantum_widgets import *"
   ]
  },
  {
   "cell_type": "code",
   "execution_count": null,
   "metadata": {},
   "outputs": [],
   "source": [
    "\n",
    "def shift_qc(qc):\n",
    "    sh1 = MCXGate(1)\n",
    "    sh2 = MCXGate(2)\n",
    "    sh3 = MCXGate(3)\n",
    "    sh4 = MCXGate(4)\n",
    "    sh5 = MCXGate(5)\n",
    "    sh6 = MCXGate(6)\n",
    "    sh7 = MCXGate(7)\n",
    "    sh8 = MCXGate(8)\n",
    "    sh9 = MCXGate(9)\n",
    "    sh10 = MCXGate(10)\n",
    "\n",
    "    # - operation\n",
    "    qc.h(10)\n",
    "    qc.x(10)\n",
    "    qc.append(sh1, [10,9])\n",
    "    qc.append(sh2, [10,9,8])\n",
    "    qc.append(sh3, [10,9,8,7])\n",
    "    qc.append(sh4, [10,9,8,7,6])\n",
    "    qc.append(sh5, [10,9,8,7,6,5])\n",
    "    qc.append(sh6, [10,9,8,7,6,5,4])\n",
    "    qc.append(sh7, [10,9,8,7,6,5,4,3])\n",
    "    qc.append(sh8, [10,9,8,7,6,5,4,3,2])\n",
    "    qc.append(sh9, [10,9,8,7,6,5,4,3,2,1])\n",
    "    qc.append(sh10, [10,9,8,7,6,5,4,3,2,1,0])\n",
    "    qc.x(10)\n",
    "\n",
    "    # + operation\n",
    "    qc.append(sh1, [10,9])\n",
    "    qc.x(9)\n",
    "    qc.append(sh2, [10,9,8])\n",
    "    qc.x(8)\n",
    "    qc.append(sh3, [10,9,8,7])\n",
    "    qc.x(7)\n",
    "    qc.append(sh4, [10,9,8,7,6])\n",
    "    qc.x(6)\n",
    "    qc.append(sh5, [10,9,8,7,6,5])\n",
    "    qc.x(5)\n",
    "    qc.append(sh6, [10,9,8,7,6,5,4])\n",
    "    qc.x(4)\n",
    "    qc.append(sh7, [10,9,8,7,6,5,4,3])\n",
    "    qc.x(3)\n",
    "    qc.append(sh8, [10,9,8,7,6,5,4,3,2])\n",
    "    qc.x(2)\n",
    "    qc.append(sh9, [10,9,8,7,6,5,4,3,2,1])\n",
    "    qc.x(1)\n",
    "    qc.append(sh10, [10,9,8,7,6,5,4,3,2,1,0])\n",
    "    qc.x(1)\n",
    "    qc.x(2)\n",
    "    qc.x(3)\n",
    "    qc.x(4)\n",
    "    qc.x(5)\n",
    "    qc.x(6)\n",
    "    qc.x(7)\n",
    "    qc.x(8)\n",
    "    qc.x(9)\n",
    "    return 0\n",
    "\n"
   ]
  },
  {
   "cell_type": "code",
   "execution_count": null,
   "metadata": {},
   "outputs": [],
   "source": [
    "#############################\n",
    "\n",
    "import numpy as np\n",
    "\n",
    "qc = QuantumCircuit(11,11)\n",
    "\n",
    "qc.x(10)\n",
    "qc.h(10)\n",
    "qc.p(np.pi/2, 10)\n",
    "\n",
    "for i in range(20):\n",
    "    shift_qc(qc)\n",
    "    \n",
    "qc.measure(range(10), range(10))\n",
    "\n"
   ]
  },
  {
   "cell_type": "code",
   "execution_count": null,
   "metadata": {},
   "outputs": [],
   "source": [
    "from qiskit import *"
   ]
  },
  {
   "cell_type": "code",
   "execution_count": null,
   "metadata": {},
   "outputs": [],
   "source": [
    "simulator = Aer.get_backend('qasm_simulator')\n",
    "job = execute(qc, simulator, shots=1000)\n",
    "result = job.result()\n",
    "\n",
    "counts = result.get_counts(qc)"
   ]
  },
  {
   "cell_type": "code",
   "execution_count": null,
   "metadata": {},
   "outputs": [],
   "source": [
    "%matplotlib inline"
   ]
  },
  {
   "cell_type": "code",
   "execution_count": null,
   "metadata": {},
   "outputs": [],
   "source": [
    "# qc.draw()"
   ]
  },
  {
   "cell_type": "code",
   "execution_count": null,
   "metadata": {},
   "outputs": [],
   "source": [
    "def reverse_binary(bin_string):\n",
    "    # Reverse the string and return it\n",
    "    bin_string = bin_string[:-1]\n",
    "    return bin_string[::-1]\n",
    "\n",
    "# Dictionary comprehension to create a new dictionary with the reversed keys\n",
    "reversed_counts = {reverse_binary(k): v for k, v in counts.items()}"
   ]
  },
  {
   "cell_type": "code",
   "execution_count": null,
   "metadata": {},
   "outputs": [],
   "source": [
    "decimal_numbers = {}\n",
    "\n",
    "for binary, count in reversed_counts.items():\n",
    "    decimal = int(binary, 2)\n",
    "    decimal_numbers[decimal] = count\n",
    "\n",
    "print(decimal_numbers)\n",
    "\n",
    "plot_histogram(decimal_numbers)"
   ]
  },
  {
   "cell_type": "code",
   "execution_count": null,
   "metadata": {},
   "outputs": [],
   "source": []
  }
 ],
 "metadata": {
  "language_info": {
   "name": "python"
  },
  "orig_nbformat": 4
 },
 "nbformat": 4,
 "nbformat_minor": 2
}
