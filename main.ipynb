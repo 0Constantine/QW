{
 "cells": [
  {
   "cell_type": "code",
   "execution_count": null,
   "metadata": {},
   "outputs": [],
   "source": [
    "#implementing test codes"
   ]
  }
 ],
 "metadata": {
  "kernelspec": {
   "display_name": "constantine",
   "language": "python",
   "name": "py38"
  },
  "language_info": {
   "name": "python",
   "version": "3.8.16"
  },
  "orig_nbformat": 4
 },
 "nbformat": 4,
 "nbformat_minor": 2
}
